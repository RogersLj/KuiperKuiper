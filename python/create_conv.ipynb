{
 "cells": [
  {
   "cell_type": "code",
   "execution_count": 1,
   "metadata": {},
   "outputs": [],
   "source": [
    "import torch\n",
    "import torch.nn as nn"
   ]
  },
  {
   "cell_type": "code",
   "execution_count": 2,
   "metadata": {},
   "outputs": [],
   "source": [
    "class ConvReLU(nn.Module):\n",
    "    def __init__(self, in_channels, out_channels, kernel_size, stride=1, padding=0):\n",
    "        super(ConvReLU, self).__init__()\n",
    "        self.conv1 = nn.Conv2d(in_channels, out_channels, kernel_size, stride, padding)\n",
    "        self.conv2 = nn.Conv2d(out_channels, out_channels, kernel_size, stride, padding)\n",
    "        self.relu = nn.ReLU()\n",
    "        self.maxpool = nn.MaxPool2d(2)\n",
    "\n",
    "    def forward(self, x):\n",
    "        return self.relu(self.conv2(self.conv1(x)))"
   ]
  },
  {
   "cell_type": "code",
   "execution_count": 3,
   "metadata": {},
   "outputs": [
    {
     "name": "stdout",
     "output_type": "stream",
     "text": [
      "torch.Size([1, 3, 4, 4])\n",
      "tensor([[[[ 1.,  2.,  3.,  4.],\n",
      "          [ 5.,  6.,  7.,  8.],\n",
      "          [ 9., 10., 11., 12.],\n",
      "          [13., 14., 15., 16.]],\n",
      "\n",
      "         [[ 1.,  2.,  3.,  4.],\n",
      "          [ 5.,  6.,  7.,  8.],\n",
      "          [ 9., 10., 11., 12.],\n",
      "          [13., 14., 15., 16.]],\n",
      "\n",
      "         [[ 1.,  2.,  3.,  4.],\n",
      "          [ 5.,  6.,  7.,  8.],\n",
      "          [ 9., 10., 11., 12.],\n",
      "          [13., 14., 15., 16.]]]])\n"
     ]
    }
   ],
   "source": [
    "in_channels = 3\n",
    "out_channels = 3\n",
    "kernel_size = 3\n",
    "stride = 1\n",
    "padding = 1\n",
    "\n",
    "input = torch.arange(1, 17, dtype=torch.float32)\n",
    "input = input.reshape(4, 4)\n",
    "input = torch.stack((input, input, input), dim=0)\n",
    "\n",
    "input = input.unsqueeze(0)\n",
    "\n",
    "print(input.shape)\n",
    "print(input)"
   ]
  },
  {
   "cell_type": "code",
   "execution_count": 4,
   "metadata": {},
   "outputs": [
    {
     "name": "stdout",
     "output_type": "stream",
     "text": [
      "torch.Size([1, 3, 4, 4])\n",
      "tensor([[[[0.0000, 0.0000, 0.2213, 1.5795],\n",
      "          [0.0000, 0.0000, 0.9237, 2.2873],\n",
      "          [0.0046, 0.1470, 2.1175, 2.2916],\n",
      "          [2.1326, 1.4126, 2.2399, 0.6411]],\n",
      "\n",
      "         [[0.0000, 0.0000, 0.0000, 0.0000],\n",
      "          [0.0000, 0.0000, 0.0000, 0.0000],\n",
      "          [0.0000, 0.0000, 0.0000, 0.0000],\n",
      "          [0.0000, 0.0000, 0.8971, 0.6681]],\n",
      "\n",
      "         [[0.0000, 0.0000, 0.0000, 0.0000],\n",
      "          [0.0000, 0.0000, 0.0000, 0.0000],\n",
      "          [0.0000, 0.0000, 0.0000, 0.0000],\n",
      "          [0.0000, 0.0000, 0.0000, 0.0000]]]], grad_fn=<ReluBackward0>)\n"
     ]
    }
   ],
   "source": [
    "conv_relu_layer = ConvReLU(in_channels, out_channels, kernel_size, stride, padding)\n",
    "\n",
    "output = conv_relu_layer(input)\n",
    "\n",
    "print(output.shape)\n",
    "print(output)"
   ]
  },
  {
   "cell_type": "code",
   "execution_count": 5,
   "metadata": {},
   "outputs": [],
   "source": [
    "model = torch.jit.trace(conv_relu_layer, input)"
   ]
  },
  {
   "cell_type": "code",
   "execution_count": 6,
   "metadata": {},
   "outputs": [
    {
     "data": {
      "text/plain": [
       "ConvReLU(\n",
       "  original_name=ConvReLU\n",
       "  (conv1): Conv2d(original_name=Conv2d)\n",
       "  (conv2): Conv2d(original_name=Conv2d)\n",
       "  (relu): ReLU(original_name=ReLU)\n",
       ")"
      ]
     },
     "execution_count": 6,
     "metadata": {},
     "output_type": "execute_result"
    }
   ],
   "source": [
    "model"
   ]
  },
  {
   "cell_type": "code",
   "execution_count": 7,
   "metadata": {},
   "outputs": [],
   "source": [
    "model.save(\"./conv_relu_layer.pt\")"
   ]
  },
  {
   "cell_type": "code",
   "execution_count": 8,
   "metadata": {},
   "outputs": [],
   "source": [
    "loaded_model = torch.jit.load(\"./conv_relu_layer.pt\")"
   ]
  },
  {
   "cell_type": "code",
   "execution_count": 9,
   "metadata": {},
   "outputs": [
    {
     "data": {
      "text/plain": [
       "RecursiveScriptModule(\n",
       "  original_name=ConvReLU\n",
       "  (conv1): RecursiveScriptModule(original_name=Conv2d)\n",
       "  (conv2): RecursiveScriptModule(original_name=Conv2d)\n",
       "  (relu): RecursiveScriptModule(original_name=ReLU)\n",
       ")"
      ]
     },
     "execution_count": 9,
     "metadata": {},
     "output_type": "execute_result"
    }
   ],
   "source": [
    "loaded_model"
   ]
  },
  {
   "cell_type": "code",
   "execution_count": 10,
   "metadata": {},
   "outputs": [
    {
     "name": "stdout",
     "output_type": "stream",
     "text": [
      "torch.Size([1, 3, 4, 4])\n"
     ]
    }
   ],
   "source": [
    "test_output = loaded_model(input)\n",
    "print(test_output.shape)"
   ]
  },
  {
   "cell_type": "code",
   "execution_count": 11,
   "metadata": {},
   "outputs": [
    {
     "name": "stdout",
     "output_type": "stream",
     "text": [
      "tensor([[[[0.0000, 0.0000, 0.2213, 1.5795],\n",
      "          [0.0000, 0.0000, 0.9237, 2.2873],\n",
      "          [0.0046, 0.1470, 2.1175, 2.2916],\n",
      "          [2.1326, 1.4126, 2.2399, 0.6411]],\n",
      "\n",
      "         [[0.0000, 0.0000, 0.0000, 0.0000],\n",
      "          [0.0000, 0.0000, 0.0000, 0.0000],\n",
      "          [0.0000, 0.0000, 0.0000, 0.0000],\n",
      "          [0.0000, 0.0000, 0.8971, 0.6681]],\n",
      "\n",
      "         [[0.0000, 0.0000, 0.0000, 0.0000],\n",
      "          [0.0000, 0.0000, 0.0000, 0.0000],\n",
      "          [0.0000, 0.0000, 0.0000, 0.0000],\n",
      "          [0.0000, 0.0000, 0.0000, 0.0000]]]], grad_fn=<ReluBackward0>)\n"
     ]
    }
   ],
   "source": [
    "print(test_output)"
   ]
  },
  {
   "cell_type": "code",
   "execution_count": 15,
   "metadata": {},
   "outputs": [],
   "source": [
    "class Expr(nn.Module):\n",
    "    def __init__(self, in_channels, out_channels, kernel_size, stride=1, padding=0):\n",
    "        super(Expr, self).__init__()\n",
    "        self.conv1 = nn.Conv2d(in_channels, out_channels, kernel_size, stride, padding)\n",
    "        self.conv2 = nn.Conv2d(out_channels, out_channels, kernel_size, stride, padding)\n",
    "        self.relu = nn.ReLU()\n",
    "        self.maxpool = nn.MaxPool2d(2)\n",
    "\n",
    "    def forward(self, x):\n",
    "        add_layr = self.relu(self.conv2(self.conv1(x)) + x)\n",
    "        return self.maxpool(add_layr)"
   ]
  },
  {
   "cell_type": "code",
   "execution_count": 16,
   "metadata": {},
   "outputs": [
    {
     "name": "stdout",
     "output_type": "stream",
     "text": [
      "torch.Size([1, 3, 4, 4])\n",
      "tensor([[[[ 1.,  2.,  3.,  4.],\n",
      "          [ 5.,  6.,  7.,  8.],\n",
      "          [ 9., 10., 11., 12.],\n",
      "          [13., 14., 15., 16.]],\n",
      "\n",
      "         [[ 1.,  2.,  3.,  4.],\n",
      "          [ 5.,  6.,  7.,  8.],\n",
      "          [ 9., 10., 11., 12.],\n",
      "          [13., 14., 15., 16.]],\n",
      "\n",
      "         [[ 1.,  2.,  3.,  4.],\n",
      "          [ 5.,  6.,  7.,  8.],\n",
      "          [ 9., 10., 11., 12.],\n",
      "          [13., 14., 15., 16.]]]])\n"
     ]
    }
   ],
   "source": [
    "in_channels = 3\n",
    "out_channels = 3\n",
    "kernel_size = 3\n",
    "stride = 1\n",
    "padding = 1\n",
    "\n",
    "input = torch.arange(1, 17, dtype=torch.float32)\n",
    "input = input.reshape(4, 4)\n",
    "input = torch.stack((input, input, input), dim=0)\n",
    "\n",
    "input = input.unsqueeze(0)\n",
    "\n",
    "print(input.shape)\n",
    "print(input)"
   ]
  },
  {
   "cell_type": "code",
   "execution_count": 17,
   "metadata": {},
   "outputs": [
    {
     "name": "stdout",
     "output_type": "stream",
     "text": [
      "torch.Size([1, 3, 4, 4])\n",
      "tensor([[[[ 0.0881,  0.0000,  0.0000,  0.0000],\n",
      "          [ 1.3674,  0.0000,  0.0000,  0.1356],\n",
      "          [ 2.0599,  0.0000,  0.0000,  1.7272],\n",
      "          [ 5.4115,  3.4820,  6.6368, 11.2847]],\n",
      "\n",
      "         [[ 1.6182,  3.0373,  5.1693,  3.0251],\n",
      "          [ 6.0341,  6.9820, 10.0318,  5.9754],\n",
      "          [ 9.4111,  8.8240, 11.5910,  8.2507],\n",
      "          [11.8416, 11.8962, 14.1935, 12.8298]],\n",
      "\n",
      "         [[ 1.6758,  3.1666,  4.0112,  3.4768],\n",
      "          [ 7.3629,  9.5257,  9.8637,  8.8083],\n",
      "          [11.4725, 13.5979, 13.8550, 13.4482],\n",
      "          [16.7963, 18.7408, 16.8579, 19.0960]]]], grad_fn=<ReluBackward0>)\n"
     ]
    }
   ],
   "source": [
    "expr_layer = Expr(in_channels, out_channels, kernel_size, stride, padding)\n",
    "\n",
    "output = expr_layer(input)\n",
    "\n",
    "print(output.shape)\n",
    "print(output)"
   ]
  },
  {
   "cell_type": "code",
   "execution_count": 18,
   "metadata": {},
   "outputs": [],
   "source": [
    "expr_model =torch.jit.trace(expr_layer, input)"
   ]
  },
  {
   "cell_type": "code",
   "execution_count": 19,
   "metadata": {},
   "outputs": [
    {
     "data": {
      "text/plain": [
       "Expr(\n",
       "  original_name=Expr\n",
       "  (conv1): Conv2d(original_name=Conv2d)\n",
       "  (conv2): Conv2d(original_name=Conv2d)\n",
       "  (relu): ReLU(original_name=ReLU)\n",
       "  (maxpool): MaxPool2d(original_name=MaxPool2d)\n",
       ")"
      ]
     },
     "execution_count": 19,
     "metadata": {},
     "output_type": "execute_result"
    }
   ],
   "source": [
    "expr_model"
   ]
  },
  {
   "cell_type": "code",
   "execution_count": null,
   "metadata": {},
   "outputs": [],
   "source": []
  }
 ],
 "metadata": {
  "kernelspec": {
   "display_name": "base",
   "language": "python",
   "name": "python3"
  },
  "language_info": {
   "codemirror_mode": {
    "name": "ipython",
    "version": 3
   },
   "file_extension": ".py",
   "mimetype": "text/x-python",
   "name": "python",
   "nbconvert_exporter": "python",
   "pygments_lexer": "ipython3",
   "version": "3.9.13"
  },
  "orig_nbformat": 4
 },
 "nbformat": 4,
 "nbformat_minor": 2
}
